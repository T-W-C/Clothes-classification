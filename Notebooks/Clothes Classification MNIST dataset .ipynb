{
 "cells": [
  {
   "cell_type": "markdown",
   "metadata": {},
   "source": [
    "This is an attempt of clothes classification using the MNIST \n",
    "Keras will be utilised to train the model"
   ]
  },
  {
   "cell_type": "code",
   "execution_count": 159,
   "metadata": {},
   "outputs": [],
   "source": [
    "# DEFINING ALL OF THE IMPORTS\n",
    "\n",
    "# __future__ allows for compatability of certain commands\n",
    "from __future__ import absolute_import, division, print_function, unicode_literals\n",
    "import tensorflow as tf\n",
    "from tensorflow import keras\n",
    "import numpy as np\n",
    "import matplotlib.pyplot as plot"
   ]
  },
  {
   "cell_type": "markdown",
   "metadata": {},
   "source": [
    "# Loading in the dataset:"
   ]
  },
  {
   "cell_type": "markdown",
   "metadata": {},
   "source": [
    "'Fashion MNIST' dataset is utilised https://www.kaggle.com/zalando-research/fashionmnist\n",
    "Contains 70k fashion based images of 10 different categories - 28x28 pixels\n",
    "stored within the keras dataset library, with specified train, test data:\n",
    "6:1 split between train:test data \n",
    "\n",
    "all, train_images, train_labels, test_images, test_labels are all arrays. \n",
    "\n",
    "The train set is defined by: (train_images, train_labels)\n",
    "and the test set defined by: (test_images, test_labels)"
   ]
  },
  {
   "cell_type": "code",
   "execution_count": 160,
   "metadata": {},
   "outputs": [],
   "source": [
    "MNIST_fashion_data = keras.datasets.fashion_mnist\n",
    "(train_images, train_types), (test_images, test_types) = MNIST_fashion_data.load_data()"
   ]
  },
  {
   "cell_type": "markdown",
   "metadata": {},
   "source": [
    "# Info on the data:\n",
    "\n",
    "Image dataset contains the 28x28 monoscale images. \n",
    "Each image belongs to a type, each type is associated with a number, 0 to 9:\n",
    "0: tshirt, 1: trouser, 2: jumper, 3: dress, 4: coat, 5: sandal, 6: shirt, 7: sneaker, 8: bag, 9: ankle boot\n",
    "\n",
    "There are a total of 70,000 images, 60,000 training images, 10,000 test. So respectivelly there are 60,000 training_types and 10,000 test_types."
   ]
  },
  {
   "cell_type": "markdown",
   "metadata": {},
   "source": [
    "## Testing images shape: "
   ]
  },
  {
   "cell_type": "code",
   "execution_count": 161,
   "metadata": {},
   "outputs": [
    {
     "name": "stdout",
     "output_type": "stream",
     "text": [
      "Testing images shape: \n"
     ]
    },
    {
     "data": {
      "text/plain": [
       "(10000, 28, 28)"
      ]
     },
     "execution_count": 161,
     "metadata": {},
     "output_type": "execute_result"
    }
   ],
   "source": [
    "print('Testing images shape: ')\n",
    "test_images.shape"
   ]
  },
  {
   "cell_type": "code",
   "execution_count": 162,
   "metadata": {},
   "outputs": [
    {
     "name": "stdout",
     "output_type": "stream",
     "text": [
      "Training images shape: \n"
     ]
    },
    {
     "data": {
      "text/plain": [
       "(60000, 28, 28)"
      ]
     },
     "execution_count": 162,
     "metadata": {},
     "output_type": "execute_result"
    }
   ],
   "source": [
    "print('Training images shape: ')\n",
    "train_images.shape"
   ]
  },
  {
   "cell_type": "markdown",
   "metadata": {},
   "source": [
    "The types will match the amount of elements as the first element of the shape for both testing and training. "
   ]
  },
  {
   "cell_type": "markdown",
   "metadata": {},
   "source": [
    "# Data Preprocessing"
   ]
  },
  {
   "cell_type": "markdown",
   "metadata": {},
   "source": [
    "## Example data plot:"
   ]
  },
  {
   "cell_type": "code",
   "execution_count": 163,
   "metadata": {},
   "outputs": [
    {
     "data": {
      "image/png": "[encoded data removed]",
      "text/plain": [
       "<Figure size 432x288 with 2 Axes>"
      ]
     },
     "metadata": {
      "needs_background": "light"
     },
     "output_type": "display_data"
    }
   ],
   "source": [
    "plot.imshow(train_images[200], cmap=\"gray\",vmin=0, vmax=255)\n",
    "plot.grid(False)\n",
    "plot.colorbar()\n",
    "plot.show()"
   ]
  },
  {
   "cell_type": "markdown",
   "metadata": {},
   "source": [
    "### Normalisation of data:"
   ]
  },
  {
   "cell_type": "markdown",
   "metadata": {},
   "source": [
    "In order to simplify the model and speed up processing time, it is important the data is remapped into floats between 0 and 1.  \n",
    "The maximum possible value within the dataset is 255.  \n",
    "Thus all data is divided by 255"
   ]
  },
  {
   "cell_type": "code",
   "execution_count": 164,
   "metadata": {},
   "outputs": [],
   "source": [
    "train_images = train_images / 255.0\n",
    "test_images = test_images / 255.0"
   ]
  },
  {
   "cell_type": "markdown",
   "metadata": {},
   "source": [
    "In order to classify the data the numerical type 0-9 is to be mapped to strings representing each clothing type:"
   ]
  },
  {
   "cell_type": "code",
   "execution_count": 165,
   "metadata": {},
   "outputs": [],
   "source": [
    "clothing_types = ['T-shirt', 'Trouser', 'Jumper', 'Dress', 'Coat', 'Sandal', 'Shirt', 'Sneaker', 'Bag', 'Ankle-boot']"
   ]
  },
  {
   "cell_type": "markdown",
   "metadata": {},
   "source": [
    "# Defining the model:"
   ]
  },
  {
   "cell_type": "markdown",
   "metadata": {},
   "source": [
    "The layers within the nerual network need to be defined.  \n",
    "For classification of the clothes, I will only define one hidden layer which then outputs to the output layer representing each of the classes.  \n",
    "A densely connected NN is whereby the neurons in the input are connected to every single \n"
   ]
  },
  {
   "cell_type": "code",
   "execution_count": 166,
   "metadata": {},
   "outputs": [],
   "source": [
    "# First the format image, a 2D array 28x28 is flattened, to be represented as a 1D 784 long array.\n",
    "modelInput = [keras.layers.Flatten(input_shape=(28, 28)), \n",
    "             keras.layers.Dense(128, activation=tf.nn.relu),\n",
    "             keras.layers.Dense(10, activation=tf.nn.softmax)\n",
    "             ]\n",
    "model = keras.Sequential(modelInput)"
   ]
  },
  {
   "cell_type": "markdown",
   "metadata": {},
   "source": [
    "## Defining model settings:"
   ]
  },
  {
   "cell_type": "markdown",
   "metadata": {},
   "source": [
    "These settings define the way the neural network behaves.  \n",
    "The Optimizer dictates how the model is updated based upon the data and loss function.  \n",
    "The loss function is how loss is calculated for each predicted output data point with respect to the expected outcome. It is aimed to be minimised during the training process.  \n",
    "Metrics determine how the training is to be monitored, what defines its success. "
   ]
  },
  {
   "cell_type": "code",
   "execution_count": 167,
   "metadata": {},
   "outputs": [],
   "source": [
    "model.compile(optimizer='adam',\n",
    "             loss='sparse_categorical_crossentropy',\n",
    "             metrics=['accuracy'])"
   ]
  },
  {
   "cell_type": "markdown",
   "metadata": {},
   "source": [
    "# Training the model"
   ]
  },
  {
   "cell_type": "markdown",
   "metadata": {},
   "source": [
    "During training the training dataset for the images and labels are utilised.  \n",
    "The amount of epochs determines the amount of iterations used to train the model."
   ]
  },
  {
   "cell_type": "code",
   "execution_count": 168,
   "metadata": {},
   "outputs": [
    {
     "name": "stdout",
     "output_type": "stream",
     "text": [
      "Epoch 1/2\n",
      "60000/60000 [==============================] - 1s 25us/sample - loss: 0.4967 - acc: 0.8252\n",
      "Epoch 2/2\n",
      "60000/60000 [==============================] - 1s 24us/sample - loss: 0.3767 - acc: 0.8646\n"
     ]
    },
    {
     "data": {
      "text/plain": [
       "<tensorflow.python.keras.callbacks.History at 0x7fafc75d04e0>"
      ]
     },
     "execution_count": 168,
     "metadata": {},
     "output_type": "execute_result"
    }
   ],
   "source": [
    "model.fit(train_images, train_types, epochs=2)\n"
   ]
  },
  {
   "cell_type": "code",
   "execution_count": 169,
   "metadata": {},
   "outputs": [
    {
     "name": "stdout",
     "output_type": "stream",
     "text": [
      "Epoch 1/5\n",
      "60000/60000 [==============================] - 2s 26us/sample - loss: 0.3382 - acc: 0.8760\n",
      "Epoch 2/5\n",
      "60000/60000 [==============================] - 2s 26us/sample - loss: 0.3127 - acc: 0.8862\n",
      "Epoch 3/5\n",
      "60000/60000 [==============================] - 1s 24us/sample - loss: 0.2946 - acc: 0.8916\n",
      "Epoch 4/5\n",
      "60000/60000 [==============================] - 1s 24us/sample - loss: 0.2801 - acc: 0.8961\n",
      "Epoch 5/5\n",
      "60000/60000 [==============================] - 1s 25us/sample - loss: 0.2679 - acc: 0.9000\n"
     ]
    },
    {
     "data": {
      "text/plain": [
       "<tensorflow.python.keras.callbacks.History at 0x7fafd8158048>"
      ]
     },
     "execution_count": 169,
     "metadata": {},
     "output_type": "execute_result"
    }
   ],
   "source": [
    "model.fit(train_images, train_types, epochs=5)"
   ]
  },
  {
   "cell_type": "code",
   "execution_count": 181,
   "metadata": {},
   "outputs": [
    {
     "name": "stdout",
     "output_type": "stream",
     "text": [
      "Epoch 1/5\n",
      "60000/60000 [==============================] - 2s 25us/sample - loss: 0.1316 - acc: 0.9499\n",
      "Epoch 2/5\n",
      "60000/60000 [==============================] - 1s 24us/sample - loss: 0.1298 - acc: 0.9506\n",
      "Epoch 3/5\n",
      "60000/60000 [==============================] - 1s 25us/sample - loss: 0.1272 - acc: 0.9522\n",
      "Epoch 4/5\n",
      "60000/60000 [==============================] - 2s 25us/sample - loss: 0.1262 - acc: 0.9524\n",
      "Epoch 5/5\n",
      "60000/60000 [==============================] - 1s 25us/sample - loss: 0.1209 - acc: 0.9548\n"
     ]
    },
    {
     "data": {
      "text/plain": [
       "<tensorflow.python.keras.callbacks.History at 0x7fafb0e5c668>"
      ]
     },
     "execution_count": 181,
     "metadata": {},
     "output_type": "execute_result"
    }
   ],
   "source": [
    "model.fit(train_images,train_types, epochs=5)"
   ]
  },
  {
   "cell_type": "markdown",
   "metadata": {},
   "source": [
    "# Testing model accuracy:"
   ]
  },
  {
   "cell_type": "markdown",
   "metadata": {},
   "source": [
    "Now to get an indication of the models accuracy - outside the training data, the model can be evaluated against the test data.  \n",
    "The difference between the accuracy of the trained model and the test data evaluation is due to overfitting to the training data. This difference is to be minimised.\n"
   ]
  },
  {
   "cell_type": "code",
   "execution_count": 183,
   "metadata": {},
   "outputs": [
    {
     "name": "stdout",
     "output_type": "stream",
     "text": [
      "(10000, 28, 28)\n",
      "10000/10000 [==============================] - 0s 15us/sample - loss: 0.4399 - acc: 0.8890\n",
      "accuracy:  0.889\n"
     ]
    }
   ],
   "source": [
    "print(test_images.shape)\n",
    "loss, acc = model.evaluate(test_images, test_types)\n",
    "print('accuracy: ', acc)"
   ]
  },
  {
   "cell_type": "markdown",
   "metadata": {},
   "source": [
    "# Predicting new inputs"
   ]
  },
  {
   "cell_type": "markdown",
   "metadata": {},
   "source": [
    "The trained model achieved an output of 90% accuracy for clothing classification and 87% accuracy when utilising the test data.  \n",
    "Predictions can now be made with the trained model:  "
   ]
  },
  {
   "cell_type": "code",
   "execution_count": 172,
   "metadata": {},
   "outputs": [],
   "source": [
    "predictions = model.predict(test_images)"
   ]
  },
  {
   "cell_type": "markdown",
   "metadata": {},
   "source": [
    "The above variable is an array, of an array of size 10:"
   ]
  },
  {
   "cell_type": "code",
   "execution_count": 173,
   "metadata": {},
   "outputs": [
    {
     "data": {
      "text/plain": [
       "(10000, 10)"
      ]
     },
     "execution_count": 173,
     "metadata": {},
     "output_type": "execute_result"
    }
   ],
   "source": [
    "predictions.shape"
   ]
  },
  {
   "cell_type": "markdown",
   "metadata": {},
   "source": [
    "Each prediction element contains an array of size 10 with statistical probabilities for what clothes type (class) the image belongs to based upon the models predictions:"
   ]
  },
  {
   "cell_type": "code",
   "execution_count": 174,
   "metadata": {},
   "outputs": [
    {
     "name": "stdout",
     "output_type": "stream",
     "text": [
      "Predicted classes:\n",
      "the values below are floored - so insignificant numbers rounded to 0\n",
      "T-shirt: 99.0 percent likely\n",
      "Trouser: 0.0 percent likely\n",
      "Jumper: 0.0 percent likely\n",
      "Dress: 0.0 percent likely\n",
      "Coat: 0.0 percent likely\n",
      "Sandal: 0.0 percent likely\n",
      "Shirt: 0.0 percent likely\n",
      "Sneaker: 0.0 percent likely\n",
      "Bag: 0.0 percent likely\n",
      "Ankle-boot: 0.0 percent likely\n",
      "\n",
      "THE CORRESPONDING IMAGE TO WHAT WAS PREDICTED AGAINST:\n"
     ]
    },
    {
     "data": {
      "text/plain": [
       "Text(0.5, 0, 'T-shirt')"
      ]
     },
     "execution_count": 174,
     "metadata": {},
     "output_type": "execute_result"
    },
    {
     "data": {
      "image/png": "[encoded data removed]",
      "text/plain": [
       "<Figure size 432x288 with 1 Axes>"
      ]
     },
     "metadata": {
      "needs_background": "light"
     },
     "output_type": "display_data"
    }
   ],
   "source": [
    "apparel_item = 677\n",
    "pred1 = predictions[apparel_item]\n",
    "print('Predicted classes:')\n",
    "print('the values below are floored - so insignificant numbers rounded to 0')\n",
    "for i in range(len(pred1)):\n",
    "    formatted_str = [clothing_types[i], pred1[i]*100]\n",
    "\n",
    "    print(\"%s: %s percent likely\" % (clothing_types[i], np.floor(pred1[i]*100)))\n",
    "\n",
    "    \n",
    "print()\n",
    "print('THE CORRESPONDING IMAGE TO WHAT WAS PREDICTED AGAINST:')\n",
    "plot.imshow(test_images[apparel_item], cmap=plot.cm.binary)\n",
    "plot.xlabel(clothing_types[test_types[apparel_item]])"
   ]
  },
  {
   "cell_type": "markdown",
   "metadata": {},
   "source": [
    "The predicted clothing item is ankle-boot based upon the first image in the test data set, this value is obtained through use of np.argmax:"
   ]
  },
  {
   "cell_type": "code",
   "execution_count": 175,
   "metadata": {},
   "outputs": [
    {
     "data": {
      "text/plain": [
       "9"
      ]
     },
     "execution_count": 175,
     "metadata": {},
     "output_type": "execute_result"
    }
   ],
   "source": [
    "np.argmax(predictions[0])"
   ]
  },
  {
   "cell_type": "markdown",
   "metadata": {},
   "source": [
    "### Future Improvements or additions to consider:"
   ]
  },
  {
   "cell_type": "markdown",
   "metadata": {},
   "source": [
    "- Use of several models to provide prediction in app\n",
    "    -  Rely on separate datasets - develop models separately, query both models and give the biggest predicted class\n",
    "    OR\n",
    "    - Combine datasets - scale up the Fashion MNIST? Add colour via an external library, combine this dataset with the deepfashion\n",
    "    - Implement removal of background on images taken in app - through inclusion of an external libary\n",
    "    \n",
    "    - Rely on on Fashion MNIST model for clothes classification, Deepfashion for feature prediction... \n",
    "    \n",
    "    - Deepfashion dataset better suited for clothing worn on individuals rather than isolated... \n",
    "    \n",
    "    \n",
    "- Detection of several clothing items in a single image\n",
    "    - User may take the photo of several of items of clothing\n",
    "    \n",
    "    \n",
    "    \n",
    "What are the most useful metrics to gain from graphing of the results?\n"
   ]
  },
  {
   "cell_type": "code",
   "execution_count": 176,
   "metadata": {},
   "outputs": [
    {
     "ename": "SyntaxError",
     "evalue": "invalid syntax (<ipython-input-176-daf59249373d>, line 31)",
     "output_type": "error",
     "traceback": [
      "\u001b[0;36m  File \u001b[0;32m\"<ipython-input-176-daf59249373d>\"\u001b[0;36m, line \u001b[0;32m31\u001b[0m\n\u001b[0;31m    def plot_value_array()\u001b[0m\n\u001b[0m                          ^\u001b[0m\n\u001b[0;31mSyntaxError\u001b[0m\u001b[0;31m:\u001b[0m invalid syntax\n"
     ]
    }
   ],
   "source": [
    "test_images.shape\n",
    "\n",
    "\n",
    "\n",
    "def predicted_type_comparison():\n",
    "    arr = {}\n",
    "    for i in range(len(clothing_types)):\n",
    "        \n",
    "        predicted_type = []\n",
    "        \n",
    "    \n",
    "        for j in range(len(test_types)):\n",
    "            el = np.argmax(predictions[j])\n",
    "#             print(j)\n",
    "            if(test_types[j] == i):\n",
    "#                 print(test_types[j])\n",
    "                predicted_type.append(el)\n",
    "        \n",
    "        arr.update({clothing_types[i]: predicted_type})\n",
    "    \n",
    "    return arr\n",
    "\n",
    "                \n",
    "extract_type()\n",
    "\n",
    "\n",
    "# X axis: all test data points\n",
    "# Y axis: predicted percentage...\n",
    "#  data points - create 10 lines, for each respective clothes type\n",
    "\n",
    "def plot_value_array()\n",
    "        "
   ]
  },
  {
   "cell_type": "code",
   "execution_count": null,
   "metadata": {},
   "outputs": [],
   "source": []
  }
 ],
 "metadata": {
  "kernelspec": {
   "display_name": "Python 3",
   "language": "python",
   "name": "python3"
  },
  "language_info": {
   "codemirror_mode": {
    "name": "ipython",
    "version": 3
   },
   "file_extension": ".py",
   "mimetype": "text/x-python",
   "name": "python",
   "nbconvert_exporter": "python",
   "pygments_lexer": "ipython3",
   "version": "3.6.8"
  }
 },
 "nbformat": 4,
 "nbformat_minor": 2
}
